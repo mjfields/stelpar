{
 "cells": [
  {
   "cell_type": "markdown",
   "id": "3db1a1a2-ceb9-40f0-ab73-57885e5c72d6",
   "metadata": {},
   "source": [
    "# Estimate Options"
   ]
  },
  {
   "cell_type": "markdown",
   "id": "7fad972c-6bb0-4c63-a5fb-021a767a8f18",
   "metadata": {},
   "source": [
    "There are several options that we can use to change or improve a given estimation.\n",
    "\n",
    "Before we get into these, let's initialize our target IRAS 04171+2756 as a `Target`. For more information about `Target` objects, see the [Target Metadata Tutorial](./target_priors_photometry.ipynb)."
   ]
  },
  {
   "cell_type": "code",
   "execution_count": 1,
   "id": "82335d15-9c2b-40d0-93df-0f563918b958",
   "metadata": {},
   "outputs": [],
   "source": [
    "from stelpar import Target\n",
    "\n",
    "target = Target('IRAS 04171+2756')"
   ]
  },
  {
   "cell_type": "markdown",
   "id": "16afbff7-9263-49f2-bbfc-b696f5e88ccf",
   "metadata": {},
   "source": [
    "## Choosing an Isochrone Model"
   ]
  },
  {
   "cell_type": "markdown",
   "id": "c4da4437-a450-47c1-bcdf-99730b54196e",
   "metadata": {},
   "source": [
    "There are three isochrone models that are built into the code, two of which are derived from the Dartmouth Stellar Evolution Program (DSEP; Chaboyer et al. 2001; DOI: [10.1086/323872](https://ui.adsabs.harvard.edu/abs/2001ApJ...562..521C/abstract); Dotter et al. 2008, DOI: [10.1086/589654](https://ui.adsabs.harvard.edu/abs/2008ApJS..178...89D/abstract)). The first is a non-magnetic DSEP model and the second is a DSEP-based model with the enhancement of magnetic field physics (Feiden & Chaboyer 2012; DOI: [10.1088/0004-637X/761/1/30](https://ui.adsabs.harvard.edu/abs/2012ApJ...761...30F/abstract)). The third model is from the PAdova and TRieste Stellar Evolution Code (PARSEC; Bressan et al. 2012, DOI: [10.1111/j.1365-2966.2012.21948.x](https://ui.adsabs.harvard.edu/abs/2012MNRAS.427..127B/abstract)).\n",
    "\n",
    "To change the isochrone model, we pass one of `'std'` (DSEP-non-magnetic), `'mag'` (DSEP-magnetic), or `'parsec'` (PARSEC) to the `isochrone` keyword argument of an `Estimate` instance. The default is `'mag'`."
   ]
  },
  {
   "cell_type": "code",
   "execution_count": 2,
   "id": "f8a9b7ef-16e7-4a39-890f-24dd4ed2a53a",
   "metadata": {},
   "outputs": [],
   "source": [
    "from stelpar import Estimate\n",
    "\n",
    "est = Estimate(target, isochrone='std')"
   ]
  },
  {
   "cell_type": "markdown",
   "id": "be4f3694-56dd-4d46-8179-444ef3c61a12",
   "metadata": {},
   "source": [
    "## Changing the Interpolation Method"
   ]
  },
  {
   "cell_type": "markdown",
   "id": "0a6a5279-b824-4796-83f5-a190682679f9",
   "metadata": {},
   "source": [
    "There are three built-in interpolation methods available for interpolating the model grid to a given (age, mass) pair. These can be changed using the `interp_method` keyword argument in an `Estimate` instance.\n",
    "\n",
    "- `interp_method='true'`: bilinear interpolation using `DFInterpolator` (see [docs](https://isochrones.readthedocs.io/en/latest/interpolate.html)) from the `isochrones` python package (Morton 2015; bibcode: [2015ascl.soft03010M](https://ui.adsabs.harvard.edu/abs/2015ascl.soft03010M/abstract))\n",
    "- `interp_method='nearest'`: nearest-neighbor finds the closest datapoint to the given age and mass\n",
    "- `interp_method='hybrid'`: finds the nearest-neighbor datapoint in age then linearly interpolates in mass\n",
    "\n",
    "If the keywords are either `'nearest'` or `'hybrid'`, `stelpar` uses a pre-interpolated version of the isochrone model where the grid spacing is much smaller than the original model. The default is `'true'`."
   ]
  },
  {
   "cell_type": "code",
   "execution_count": 3,
   "id": "b5952846-703f-4c5f-b9cc-a7fbc374c8e0",
   "metadata": {},
   "outputs": [
    {
     "name": "stdout",
     "output_type": "stream",
     "text": [
      "\n",
      "loading isochrone model grid ..\n"
     ]
    }
   ],
   "source": [
    "est = Estimate(target, isochrone='std', interp_method='hybrid')"
   ]
  },
  {
   "cell_type": "markdown",
   "id": "5de76cd3-a957-4915-bd04-ed344febda54",
   "metadata": {},
   "source": [
    "## Extinction Options"
   ]
  },
  {
   "cell_type": "markdown",
   "id": "ec3e1266-10ef-452b-a3fe-be796798c9a1",
   "metadata": {},
   "source": [
    "There are two optional changes we can make to the built-in extinciton calculation that is run at every iteration of the MCMC.\n",
    "\n",
    "The first is to set $A_V=0$ and remove it entirely as a fit parameter (i.e., the calculation never happens). This is useful if we know that our target is nearby and not surrounded by gas and dust (e.g., the star is $\\sim$30 pc away and does not have a protoplanetary disk nor exist in a star-forming region).\n",
    "\n",
    "To set $A_V=0$ we pass `zero_extinction=True` to `Estimate` (the default is `False`)."
   ]
  },
  {
   "cell_type": "code",
   "execution_count": 4,
   "id": "f0580e3e-6af5-494c-b479-97244b1e67dd",
   "metadata": {},
   "outputs": [
    {
     "name": "stdout",
     "output_type": "stream",
     "text": [
      "\n",
      "loading isochrone model grid ..\n"
     ]
    }
   ],
   "source": [
    "est = Estimate(target, isochrone='std', interp_method='hybrid', zero_extinction=True)"
   ]
  },
  {
   "cell_type": "markdown",
   "id": "5d6450af-5c40-4bde-ba63-02c27cc2130e",
   "metadata": {},
   "source": [
    "When extinction is calculated it is done so using an identical procedure to the `synphot` python package (STScI Development Team 2018; bibcode: [2018ascl.soft11001S](https://ui.adsabs.harvard.edu/abs/2018ascl.soft11001S/abstract)), except using `numpy` arrays and `numba` instead of the built-in `synphot` object framework. This makes the calculation significantly faster. If you prefer using the pure-`synphot` method, you can pass `use_synphot=True` to `Estimate` (the default is `False`)."
   ]
  },
  {
   "cell_type": "code",
   "execution_count": 5,
   "id": "76eeeb00-f80a-4f11-bca0-6e581f2dd959",
   "metadata": {},
   "outputs": [
    {
     "name": "stdout",
     "output_type": "stream",
     "text": [
      "\n",
      "loading isochrone model grid ..\n"
     ]
    }
   ],
   "source": [
    "est = Estimate(target, isochrone='std', interp_method='hybrid', zero_extinction=False, use_synphot=True)"
   ]
  },
  {
   "cell_type": "markdown",
   "id": "ab117522-6736-4594-bf77-b6825321596c",
   "metadata": {},
   "source": [
    "## Using Different Moves"
   ]
  },
  {
   "cell_type": "markdown",
   "id": "d520dac4-cea3-4282-b406-c3ccf116a6b7",
   "metadata": {},
   "source": [
    "Built into the `Target` infrastructure is the ability to use different ensemble moves. A good description of what these are and their basic usage can be found in the [`emcee` moves tutorial](https://emcee.readthedocs.io/en/stable/tutorials/moves/). All of the available moves and their references in the literature can be found in the [`emcee` moves documentation](https://emcee.readthedocs.io/en/stable/user/moves/) of the `emcee` documentation.\n",
    "\n",
    "`stelpar` gives the ability to use four of these moves: `StretchMove`, `DEMove`, `DESnookerMove`, and `KDEMove`, all from `emcee`. They can be accessed via the keywords `\"stretch\"`, `\"DE\"`, `\"snooker\"`, and `\"KDE\"`, respectively. Along with a keyword, a weight must be applied to each move. Any arguments can also be given to each move function as you would with `emcee`. \n",
    "\n",
    "`StretchMove` with a weight of 1.0 is the default move.\n",
    "\n",
    "For example, suppose we want to use 20% `DEMove` and 80% `DESnookerMove`:"
   ]
  },
  {
   "cell_type": "code",
   "execution_count": 6,
   "id": "572c7aac-e78c-4b4c-a8cc-27649ff6d227",
   "metadata": {},
   "outputs": [
    {
     "data": {
      "text/plain": [
       "[(<emcee.moves.de_snooker.DESnookerMove at 0x1ed2dba7260>, 0.8),\n",
       " (<emcee.moves.de.DEMove at 0x1ed2da32930>, 0.2)]"
      ]
     },
     "execution_count": 6,
     "metadata": {},
     "output_type": "execute_result"
    }
   ],
   "source": [
    "target.moves = [\n",
    "    ('snooker', 0.8), \n",
    "    ('DE', 0.2),\n",
    "]\n",
    "\n",
    "target.moves"
   ]
  }
 ],
 "metadata": {
  "kernelspec": {
   "display_name": "Python 3 (ipykernel)",
   "language": "python",
   "name": "python3"
  },
  "language_info": {
   "codemirror_mode": {
    "name": "ipython",
    "version": 3
   },
   "file_extension": ".py",
   "mimetype": "text/x-python",
   "name": "python",
   "nbconvert_exporter": "python",
   "pygments_lexer": "ipython3",
   "version": "3.12.4"
  }
 },
 "nbformat": 4,
 "nbformat_minor": 5
}
